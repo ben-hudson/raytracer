{
 "cells": [
  {
   "cell_type": "markdown",
   "metadata": {},
   "source": [
    "# A simple, flexible 2D raytracer\n",
    "\n",
    "This notebook demonstrates the capabilities of the module."
   ]
  },
  {
   "cell_type": "code",
   "execution_count": 1,
   "metadata": {},
   "outputs": [],
   "source": [
    "import raytracer as rt\n",
    "import matplotlib.pyplot as plt"
   ]
  },
  {
   "cell_type": "code",
   "execution_count": 2,
   "metadata": {},
   "outputs": [],
   "source": [
    "# %matplotlib notebook"
   ]
  },
  {
   "cell_type": "markdown",
   "metadata": {},
   "source": [
    "## Walkthrough\n",
    "Rays are represented as particles, with a position and direction.\n",
    "\n",
    "The environment is represented by a series of line segments, each defining a boundary between materials with two different refractive indices."
   ]
  },
  {
   "cell_type": "code",
   "execution_count": 3,
   "metadata": {},
   "outputs": [],
   "source": [
    "# origin, direction\n",
    "ray = rt.Ray((0, 2), (1, 1))\n",
    "# line segments, pairs of refractive indices for each polygon defined in the DXF\n",
    "env = rt.Environment('floorplan.dxf', [(1.0, 1.4), (1.0, 1.4)], scale=0.0254)"
   ]
  },
  {
   "cell_type": "code",
   "execution_count": 4,
   "metadata": {},
   "outputs": [
    {
     "data": {
      "text/plain": [
       "<matplotlib.quiver.Quiver at 0x7f70f1a77b00>"
      ]
     },
     "execution_count": 4,
     "metadata": {},
     "output_type": "execute_result"
    },
    {
     "data": {
      "image/png": "[encoded data removed]",
      "text/plain": [
       "<Figure size 432x288 with 1 Axes>"
      ]
     },
     "metadata": {
      "needs_background": "light"
     },
     "output_type": "display_data"
    }
   ],
   "source": [
    "fig, ax = plt.subplots()\n",
    "ax.set_aspect('equal')\n",
    "\n",
    "for line_segment in env.obstacles:\n",
    "    ax.plot(line_segment[:, 0], line_segment[:, 1], c='b')\n",
    "\n",
    "ax.quiver(ray.origin[0], ray.origin[1], ray.direction[0], ray.direction[1], color='r')"
   ]
  },
  {
   "cell_type": "markdown",
   "metadata": {},
   "source": [
    "Determine where the ray will intersect with the environment using `Ray.closest_hit`."
   ]
  },
  {
   "cell_type": "code",
   "execution_count": 5,
   "metadata": {},
   "outputs": [],
   "source": [
    "distance, boundary = ray.closest_hit(env)\n",
    "# if distance is not None:"
   ]
  },
  {
   "cell_type": "code",
   "execution_count": 6,
   "metadata": {},
   "outputs": [
    {
     "data": {
      "text/plain": [
       "[<matplotlib.lines.Line2D at 0x7f70f16658d0>]"
      ]
     },
     "execution_count": 6,
     "metadata": {},
     "output_type": "execute_result"
    },
    {
     "data": {
      "image/png": "[encoded data removed]",
      "text/plain": [
       "<Figure size 432x288 with 1 Axes>"
      ]
     },
     "metadata": {
      "needs_background": "light"
     },
     "output_type": "display_data"
    }
   ],
   "source": [
    "fig, ax = plt.subplots()\n",
    "ax.set_aspect('equal')\n",
    "\n",
    "for obstacle in env.obstacles:\n",
    "    ax.plot(obstacle[:, 0], obstacle[:, 1], c='b')\n",
    "\n",
    "ax.quiver(ray.origin[0], ray.origin[1], ray.direction[0], ray.direction[1], color='r')\n",
    "ax.plot(boundary.geometry[:, 0], boundary.geometry[:, 1], c='r')"
   ]
  },
  {
   "cell_type": "markdown",
   "metadata": {},
   "source": [
    "Then propagate the ray using `Ray.propagate`. This updates the ray's position and time of flight depending on its speed.\n",
    "\n",
    "Choose how the ray will interact with the boundary using `Ray.reflect` or `Ray.refract`. `Ray.refelect` will always return `True`. `Ray.refract` will return `False` if no refraction is possible (total internal reflection would occur) and `True` otherwise. The ray's direction and speed (for refraction) is updated upon success."
   ]
  },
  {
   "cell_type": "code",
   "execution_count": 7,
   "metadata": {},
   "outputs": [
    {
     "data": {
      "text/plain": [
       "True"
      ]
     },
     "execution_count": 7,
     "metadata": {},
     "output_type": "execute_result"
    }
   ],
   "source": [
    "ray.propagate(distance)\n",
    "ray.refract(boundary)"
   ]
  },
  {
   "cell_type": "code",
   "execution_count": 8,
   "metadata": {},
   "outputs": [
    {
     "data": {
      "text/plain": [
       "[<matplotlib.lines.Line2D at 0x7f70f1532b00>]"
      ]
     },
     "execution_count": 8,
     "metadata": {},
     "output_type": "execute_result"
    },
    {
     "data": {
      "image/png": "[encoded data removed]",
      "text/plain": [
       "<Figure size 432x288 with 1 Axes>"
      ]
     },
     "metadata": {
      "needs_background": "light"
     },
     "output_type": "display_data"
    }
   ],
   "source": [
    "fig, ax = plt.subplots()\n",
    "ax.set_aspect('equal')\n",
    "\n",
    "for obstacle in env.obstacles:\n",
    "    ax.plot(obstacle[:, 0], obstacle[:, 1], c='b')\n",
    "\n",
    "ax.quiver(ray.origin[0], ray.origin[1], ray.direction[0], ray.direction[1], color='r')\n",
    "ax.plot(boundary.geometry[:, 0], boundary.geometry[:, 1], c='r')"
   ]
  },
  {
   "cell_type": "markdown",
   "metadata": {},
   "source": [
    "## Example\n",
    "\n",
    "This example will trace 3 rays originating at (0, 2) and pointing in random directions to a maximum depth of 5."
   ]
  },
  {
   "cell_type": "code",
   "execution_count": 9,
   "metadata": {},
   "outputs": [],
   "source": [
    "import numpy as np\n",
    "import multiprocessing\n",
    "import tqdm"
   ]
  },
  {
   "cell_type": "code",
   "execution_count": 10,
   "metadata": {},
   "outputs": [],
   "source": [
    "MAX_DEPTH = 5\n",
    "N_RAYS = 3\n",
    "origin = (0, 2)\n",
    "rays = [rt.Ray(origin, (np.cos(a), np.sin(a))) for a in 2*np.pi*np.random.rand(N_RAYS)]"
   ]
  },
  {
   "cell_type": "markdown",
   "metadata": {},
   "source": [
    "The `trace` function will propagate one ray up to a maximum depth and return where it intersected with the environment."
   ]
  },
  {
   "cell_type": "code",
   "execution_count": 11,
   "metadata": {},
   "outputs": [],
   "source": [
    "def trace(args):\n",
    "    ray, env, MAX_DEPTH = args\n",
    "    depth = 0\n",
    "    hits = [tuple(ray.origin)] # where the ray intersected the environment\n",
    "    \n",
    "    while depth < MAX_DEPTH:\n",
    "        distance, boundary = ray.closest_hit(env)\n",
    "        # if the ray intersects with an obstacle\n",
    "        if boundary is not None:\n",
    "            ray.propagate(distance)\n",
    "            hits.append(tuple(ray.origin))\n",
    "            # randomly select reflection or refraction\n",
    "            if np.random.rand() < 0.5:\n",
    "                refracted = ray.refract(boundary)\n",
    "                # if no refraction is possble, then reflect\n",
    "                if not refracted:\n",
    "                    ray.reflect(boundary)\n",
    "            else:\n",
    "                ray.reflect(boundary)\n",
    "        else:\n",
    "            ray.propagate(5) # propagate a maximum distance\n",
    "            hits.append(tuple(ray.origin))\n",
    "            depth = MAX_DEPTH\n",
    "        \n",
    "        depth += 1\n",
    "        \n",
    "    return hits"
   ]
  },
  {
   "cell_type": "code",
   "execution_count": 12,
   "metadata": {},
   "outputs": [],
   "source": [
    "pool = multiprocessing.Pool(processes=4)\n",
    "args = zip(rays, [env]*N_RAYS, [MAX_DEPTH]*N_RAYS)\n",
    "ray_paths = []\n",
    "for points in pool.imap(trace, args):\n",
    "    ray_paths.append(points)\n",
    "pool.close()\n",
    "pool.join()"
   ]
  },
  {
   "cell_type": "code",
   "execution_count": 13,
   "metadata": {},
   "outputs": [
    {
     "data": {
      "image/png": "[encoded data removed]",
      "text/plain": [
       "<Figure size 432x288 with 1 Axes>"
      ]
     },
     "metadata": {
      "needs_background": "light"
     },
     "output_type": "display_data"
    }
   ],
   "source": [
    "fig, ax = plt.subplots()\n",
    "ax.set_aspect('equal')\n",
    "\n",
    "for obstacle in env.obstacles:\n",
    "    ax.plot(obstacle[:, 0], obstacle[:, 1], c='b')\n",
    "    \n",
    "for ray_path in ray_paths:\n",
    "    ray_x, ray_y = zip(*ray_path)\n",
    "    ax.plot(ray_x, ray_y, marker='x', c='r')"
   ]
  },
  {
   "cell_type": "code",
   "execution_count": null,
   "metadata": {},
   "outputs": [],
   "source": []
  }
 ],
 "metadata": {
  "kernelspec": {
   "display_name": "Python 3",
   "language": "python",
   "name": "python3"
  },
  "language_info": {
   "codemirror_mode": {
    "name": "ipython",
    "version": 3
   },
   "file_extension": ".py",
   "mimetype": "text/x-python",
   "name": "python",
   "nbconvert_exporter": "python",
   "pygments_lexer": "ipython3",
   "version": "3.6.4"
  }
 },
 "nbformat": 4,
 "nbformat_minor": 2
}
